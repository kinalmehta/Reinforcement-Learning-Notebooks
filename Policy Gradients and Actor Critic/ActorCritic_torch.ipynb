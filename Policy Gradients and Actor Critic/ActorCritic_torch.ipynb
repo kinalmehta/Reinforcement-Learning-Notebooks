{
 "cells": [
  {
   "cell_type": "markdown",
   "execution_count": null,
   "metadata": {
    "colab_type": "text",
    "id": "nwjab7Q4l0r1"
   },
   "outputs": [],
   "source": [
    "[![Open In Colab](https://colab.research.google.com/assets/colab-badge.svg)](https://colab.research.google.com/github/kinalmehta/Reinforcement-Learning-Notebooks/blob/master/Policy%20Gradients/PolicyGradient_torch.ipynb)"
   ]
  },
  {
   "cell_type": "markdown",
   "execution_count": null,
   "metadata": {
    "colab_type": "text",
    "id": "lheJ2JosRp2z"
   },
   "outputs": [],
   "source": [
    "### Basic Setup step in **Colab**"
   ]
  },
  {
   "cell_type": "code",
   "execution_count": null,
   "metadata": {
    "colab": {},
    "colab_type": "code",
    "id": "YEKcwzMBQbzD"
   },
   "outputs": [],
   "source": [
    "#remove \" > /dev/null 2>&1\" to see what is going on under the hood\n",
    "!pip install gym pyvirtualdisplay > /dev/null 2>&1\n",
    "!apt-get install -y xvfb python-opengl ffmpeg > /dev/null 2>&1\n",
    "\n",
    "!apt-get update > /dev/null 2>&1\n",
    "!apt-get install cmake > /dev/null 2>&1\n",
    "!pip install --upgrade setuptools 2>&1\n",
    "!pip install ez_setup > /dev/null 2>&1\n",
    "!pip install gym[atari,box2d,classic_control] > /dev/null 2>&1 # change to gym[atari,box2d,classic_control]"
   ]
  },
  {
   "cell_type": "code",
   "execution_count": null,
   "metadata": {
    "colab": {},
    "colab_type": "code",
    "id": "RFFRRTAYSWea"
   },
   "outputs": [],
   "source": [
    "# %tensorflow_version 2.x\n",
    "# %tensorflow_version 1.x\n"
   ]
  },
  {
   "cell_type": "markdown",
   "execution_count": null,
   "metadata": {},
   "outputs": [],
   "source": [
    "#### Adding a virtual display for rendering"
   ]
  },
  {
   "cell_type": "code",
   "execution_count": null,
   "metadata": {},
   "outputs": [],
   "source": [
    "from pyvirtualdisplay import Display\n",
    "display = Display(visible=0, size=(1400, 900))\n",
    "display.start()"
   ]
  },
  {
   "cell_type": "markdown",
   "execution_count": null,
   "metadata": {
    "colab_type": "text",
    "id": "2_d4hG0Xp8fG"
   },
   "outputs": [],
   "source": [
    "#### Uncomment below to connect to drive to save model and video outputs"
   ]
  },
  {
   "cell_type": "code",
   "execution_count": null,
   "metadata": {
    "colab": {},
    "colab_type": "code",
    "id": "OgZYXNoWpSVI"
   },
   "outputs": [],
   "source": [
    "\n",
    "# from google.colab import drive\n",
    "# drive.mount('/content/gdrive')\n",
    "\n",
    "# root_path = 'gdrive/My Drive/Colab Notebooks/RL/'\n",
    "# import os\n",
    "# os.chdir(root_path)"
   ]
  },
  {
   "cell_type": "markdown",
   "execution_count": null,
   "metadata": {
    "colab_type": "text",
    "id": "XntD8FMRRumy"
   },
   "outputs": [],
   "source": [
    "### Standard imports and notebook setup"
   ]
  },
  {
   "cell_type": "code",
   "execution_count": null,
   "metadata": {},
   "outputs": [],
   "source": [
    "import gym\n",
    "from gym import logger as gymlogger\n",
    "from gym.wrappers import Monitor\n",
    "gymlogger.set_level(40) #error only\n",
    "import numpy as np\n",
    "import random\n",
    "import matplotlib\n",
    "import matplotlib.pyplot as plt\n",
    "%matplotlib inline\n",
    "\n",
    "import math\n",
    "import glob\n",
    "import io\n",
    "import base64\n",
    "from IPython.display import HTML\n",
    "\n",
    "from IPython import display as ipythondisplay"
   ]
  },
  {
   "cell_type": "code",
   "execution_count": null,
   "metadata": {},
   "outputs": [],
   "source": [
    "\"\"\"\n",
    "Utility functions to enable video recording of gym environment and displaying it\n",
    "To enable video, just do \"env = wrap_env(env)\"\"\n",
    "\"\"\"\n",
    "\n",
    "def show_video():\n",
    "    mp4list = glob.glob('video/*.mp4')\n",
    "    if len(mp4list) > 0:\n",
    "        mp4 = mp4list[-1]\n",
    "        video = io.open(mp4, 'r+b').read()\n",
    "        encoded = base64.b64encode(video)\n",
    "\n",
    "        # you can add \"loop\" after autoplay to keep the video looping after it ends\n",
    "        ipythondisplay.display(HTML(data='''<video alt=\"test\" autoplay \n",
    "                     controls style=\"height: 400px;\">\n",
    "                    <source src=\"data:video/mp4;base64,{0}\" type=\"video/mp4\" />\n",
    "                 </video>'''.format(encoded.decode('ascii'))))\n",
    "    else: \n",
    "        print(\"Could not find video\")\n",
    "\n",
    "\n",
    "def wrap_env(env):\n",
    "    env = Monitor(env, './video', force=True)\n",
    "    return env"
   ]
  },
  {
   "cell_type": "markdown",
   "execution_count": null,
   "metadata": {
    "colab_type": "text",
    "id": "JX2E1ceMcN-j"
   },
   "outputs": [],
   "source": [
    "## Actor Critic Algorithm"
   ]
  },
  {
   "cell_type": "markdown",
   "execution_count": null,
   "metadata": {},
   "outputs": [],
   "source": [
    "### List of environments that can be used with this version of PG"
   ]
  },
  {
   "cell_type": "code",
   "execution_count": null,
   "metadata": {},
   "outputs": [],
   "source": [
    "env_list = [\"CartPole-v0\", \"LunarLander-v2\", \"MsPacman-ram-v0\", \"CartPole-v0\", \"MountainCar-v0\", \"Breakout-ram-v4\", \"Acrobot-v1\"]\n",
    "\n",
    "env_to_use = env_list[0]"
   ]
  },
  {
   "cell_type": "markdown",
   "execution_count": null,
   "metadata": {
    "colab_type": "text",
    "id": "-RIHPnzwR85a"
   },
   "outputs": [],
   "source": [
    "### Selecting the environment and exploring it"
   ]
  },
  {
   "cell_type": "code",
   "execution_count": null,
   "metadata": {},
   "outputs": [],
   "source": [
    "env = wrap_env(gym.make(env_to_use))\n",
    "\n",
    "#check out the environment's action and observation space!\n",
    "print(env.action_space)\n",
    "print(env.observation_space)\n",
    "\n",
    "from gym import spaces\n",
    "assert isinstance(env.observation_space, spaces.Box), print(\"State space should be continuous\")\n",
    "assert len(env.observation_space.shape)==1, print(\"State space should be 1-D\")\n",
    "assert isinstance(env.action_space, spaces.Discrete), print(\"Action space should be discrete\")\n",
    "\n",
    "observation = env.reset()\n",
    "while True:\n",
    "    env.render()\n",
    "    #your agent goes here\n",
    "    action = env.action_space.sample() # selecting a random action from the action space\n",
    "    observation, reward, done, info = env.step(action) \n",
    "    if done: \n",
    "        break\n",
    "    # break\n",
    "\n",
    "env.close()\n",
    "show_video()"
   ]
  },
  {
   "cell_type": "markdown",
   "execution_count": null,
   "metadata": {
    "colab_type": "text",
    "id": "HidE0wI2bqT3"
   },
   "outputs": [],
   "source": [
    "### Defining the Network to be used"
   ]
  },
  {
   "cell_type": "code",
   "execution_count": null,
   "metadata": {},
   "outputs": [],
   "source": [
    "import torch\n",
    "import torch.nn as nn\n",
    "import torch.nn.functional as F\n",
    "\n",
    "class Actor(nn.Module):\n",
    "    \"\"\"Actor (Policy) Model.\"\"\"\n",
    "\n",
    "    def __init__(self, state_size, action_size, seed, fc1_units=64, fc2_units=64):\n",
    "        \"\"\"Initialize parameters and build model.\n",
    "        Params\n",
    "        ======\n",
    "            state_size (int): Dimension of each state\n",
    "            action_size (int): Dimension of each action\n",
    "            seed (int): Random seed\n",
    "            fc1_units (int): Number of nodes in first hidden layer\n",
    "            fc2_units (int): Number of nodes in second hidden layer\n",
    "        \"\"\"\n",
    "        super(Actor, self).__init__()\n",
    "        torch.manual_seed(seed)\n",
    "        self.fc1 = nn.Linear(state_size, fc1_units)\n",
    "        self.fc2 = nn.Linear(fc1_units, fc2_units)\n",
    "        self.actor = nn.Linear(fc2_units, action_size)\n",
    "        self.critic = nn.Linear(fc2_units, 1)\n",
    "\n",
    "    def forward(self, state):\n",
    "        \"\"\"Build a network that maps state -> action values.\"\"\"\n",
    "        x = F.relu(self.fc1(state))\n",
    "        x = F.relu(self.fc2(x))\n",
    "        return self.actor(x)\n",
    "\n",
    "class Critic(nn.Module):\n",
    "    \"\"\"Actor (Policy) Model.\"\"\"\n",
    "\n",
    "    def __init__(self, state_size, seed, fc1_units=64, fc2_units=64):\n",
    "        \"\"\"Initialize parameters and build model.\n",
    "        Params\n",
    "        ======\n",
    "            state_size (int): Dimension of each state\n",
    "            action_size (int): Dimension of each action\n",
    "            seed (int): Random seed\n",
    "            fc1_units (int): Number of nodes in first hidden layer\n",
    "            fc2_units (int): Number of nodes in second hidden layer\n",
    "        \"\"\"\n",
    "        super(Critic, self).__init__()\n",
    "        torch.manual_seed(seed)\n",
    "        self.fc1 = nn.Linear(state_size, fc1_units)\n",
    "        self.fc2 = nn.Linear(fc1_units, fc2_units)\n",
    "        self.critic = nn.Linear(fc2_units, 1)\n",
    "\n",
    "    def forward(self, state):\n",
    "        \"\"\"Build a network that maps state -> action values.\"\"\"\n",
    "        x = F.relu(self.fc1(state))\n",
    "        x = F.relu(self.fc2(x))\n",
    "        return self.critic(x)\n",
    "\n",
    "class PGLoss(nn.Module):\n",
    "    def forward(self, policy, act, rew_wt):\n",
    "        logp = policy.log_prob(act)\n",
    "        return -(logp * rew_wt).mean()\n",
    ""
   ]
  },
  {
   "cell_type": "markdown",
   "execution_count": null,
   "metadata": {
    "colab_type": "text",
    "id": "92MuHGLIdZJE"
   },
   "outputs": [],
   "source": [
    "### Defining the agent"
   ]
  },
  {
   "cell_type": "code",
   "execution_count": null,
   "metadata": {},
   "outputs": [],
   "source": [
    "import torch\n",
    "import torch.optim as optim\n",
    "\n",
    "from torch.distributions.categorical import Categorical\n",
    "\n",
    "from collections import defaultdict\n",
    "\n",
    "class Agent:\n",
    "    def __init__(self, env, batch_size, device='cpu'):\n",
    "        self.env = env\n",
    "        self.state_size = self.env.observation_space.shape[0]\n",
    "        self.action_size = self.env.action_space.n\n",
    "\n",
    "        self.actor_network = Actor(self.state_size, self.action_size, 4)\n",
    "        self.critic_network = Critic(self.state_size, 4)\n",
    "\n",
    "        self.actor_loss = PGLoss()\n",
    "        self.critic_loss = nn.MSELoss()\n",
    "        self.batch_size = batch_size\n",
    "\n",
    "        self.device = device\n",
    "\n",
    "        self.train_stats = defaultdict(list)\n",
    "\n",
    "    def get_policy(self, obs):\n",
    "        net_op = self.actor_network(torch.as_tensor(obs, dtype=torch.float32))\n",
    "        return Categorical(logits=net_op)\n",
    "    def get_critic_value(self,obs):\n",
    "        return self.critic_network(torch.as_tensor(obs, dtype=torch.float32))\n",
    "    def get_action(self, policy):\n",
    "        return policy.sample().item()\n",
    "\n",
    "    def get_episode_batch(self):\n",
    "        batch_obs = []\n",
    "        batch_action = []\n",
    "        batch_weights = []\n",
    "        batch_critic = []\n",
    "        batch_returns = []\n",
    "        batch_lengths = []\n",
    "\n",
    "        cur_obs = self.env.reset()\n",
    "        episode_rewards = []\n",
    "        episode_critic_op = []\n",
    "        done = False\n",
    "\n",
    "        while True:\n",
    "            batch_obs.append(cur_obs.copy())\n",
    "            \n",
    "            policy = self.get_policy(cur_obs)\n",
    "            critic_op = self.get_critic_value(cur_obs)\n",
    "            cur_action = self.get_action(policy)\n",
    "            cur_obs, cur_reward, done, _ = self.env.step(cur_action)\n",
    "\n",
    "            batch_action.append(cur_action)\n",
    "            batch_critic.append(critic_op)\n",
    "            episode_rewards.append(cur_reward)\n",
    "            \n",
    "            if done:\n",
    "                episode_return, episode_length = sum(episode_rewards), len(episode_rewards)\n",
    "                \n",
    "                batch_returns.append(episode_return)\n",
    "                batch_lengths.append(episode_length)\n",
    "                \n",
    "                def get_reward_to_go(rewards_list, gamma=1):\n",
    "                    rtg = []\n",
    "                    sum_rewards = 0\n",
    "                    for i in rewards_list[::-1]:\n",
    "                        sum_rewards = i + sum_rewards*gamma\n",
    "                        rtg.append(sum_rewards)\n",
    "                    return rtg[::-1]\n",
    "                batch_weights += get_reward_to_go(episode_rewards, 0.9)\n",
    "                \n",
    "                if len(batch_obs) > self.batch_size:\n",
    "                    break\n",
    "                \n",
    "                cur_obs, done, episode_rewards, episode_critic_op = self.env.reset(), False, [], []\n",
    "        return batch_obs, batch_action, batch_weights, batch_critic, batch_returns, batch_lengths\n",
    "\n",
    "    def train(self, epochs):\n",
    "        actor_optimizer = optim.Adam(self.actor_network.parameters(), lr=1e-2)\n",
    "        critic_optimizer = optim.Adam(self.critic_network.parameters(), lr=1e-2)\n",
    "\n",
    "        for i in range(epochs):\n",
    "            obs, act, rew_wt, critic_op, eps_rew, eps_len = self.get_episode_batch()\n",
    "            obs = torch.as_tensor(obs)\n",
    "            act = torch.as_tensor(act)\n",
    "            rew_wt = torch.as_tensor(rew_wt)\n",
    "            critic_op = torch.cat(critic_op)\n",
    "            \n",
    "            actor_optimizer.zero_grad()\n",
    "            critic_optimizer.zero_grad()\n",
    "            \n",
    "            actor_loss_val = self.actor_loss(self.get_policy(obs), act, rew_wt-critic_op.detach())\n",
    "            critic_loss_val = self.critic_loss(critic_op, rew_wt)\n",
    "\n",
    "            actor_loss_val.backward()\n",
    "            actor_optimizer.step()\n",
    "\n",
    "            critic_loss_val.backward()\n",
    "            critic_optimizer.step()\n",
    "\n",
    "            self.train_stats[\"actor_loss\"] += [actor_loss_val.item()]\n",
    "            self.train_stats[\"critic_loss\"] += [critic_loss_val.item()]\n",
    "            # self.train_stats[\"total_loss\"] += [loss.item()]\n",
    "            self.train_stats[\"rewards\"] += [np.mean(eps_rew)]\n",
    "\n",
    "            print(\"Epoch:\", i, actor_loss_val.item(), critic_loss_val.item(), np.mean(eps_rew), np.mean(eps_len))\n",
    "    \n",
    "    def plot_train_stats(self):\n",
    "        if len(self.train_stats)==0:\n",
    "            print(\"first train to print train stats\")\n",
    "        for i in self.train_stats:\n",
    "            plt.plot(self.train_stats[i])\n",
    "            plt.xlabel(\"Epoch\")\n",
    "            plt.ylabel(i)\n",
    "            plt.show()\n",
    "        return\n",
    "\n",
    ""
   ]
  },
  {
   "cell_type": "markdown",
   "execution_count": null,
   "metadata": {
    "colab_type": "text",
    "id": "N2ZkiiMNeE6M"
   },
   "outputs": [],
   "source": [
    "### Creating Agent's instance and using it to train"
   ]
  },
  {
   "cell_type": "code",
   "execution_count": null,
   "metadata": {
    "tags": [
     "outputPrepend",
     "outputPrepend",
     "outputPrepend",
     "outputPrepend",
     "outputPrepend",
     "outputPrepend",
     "outputPrepend"
    ]
   },
   "outputs": [],
   "source": [
    "print(\"GPU available:\", torch.cuda.is_available())\n",
    "\n",
    "device = torch.device(\"cuda:0\" if torch.cuda.is_available() else \"cpu\")\n",
    "\n",
    "env = wrap_env(gym.make(env_to_use))\n",
    "\n",
    "agent = Agent(env, batch_size=5000)\n",
    "agent.train(100)\n",
    "\n",
    ""
   ]
  },
  {
   "cell_type": "code",
   "execution_count": null,
   "metadata": {},
   "outputs": [],
   "source": [
    "agent.plot_train_stats()"
   ]
  },
  {
   "cell_type": "code",
   "execution_count": null,
   "metadata": {},
   "outputs": [],
   "source": [
    "# watch the trained agent\n",
    "env = wrap_env(gym.make(env_to_use))\n",
    "state = env.reset()\n",
    "done=False\n",
    "while not done:\n",
    "    policy = agent.get_policy(state)\n",
    "    action = agent.get_action(policy)\n",
    "    env.render()\n",
    "    state, reward, done, _ = env.step(action)\n",
    "    if done:\n",
    "        break\n",
    "        \n",
    "env.close()\n",
    "show_video()"
   ]
  },
  {
   "cell_type": "code",
   "execution_count": null,
   "metadata": {},
   "outputs": [],
   "source": []
  }
 ],
 "metadata": {
  "accelerator": "GPU",
  "colab": {
   "collapsed_sections": [
    "XntD8FMRRumy",
    "JX2E1ceMcN-j",
    "-RIHPnzwR85a",
    "HidE0wI2bqT3",
    "92MuHGLIdZJE",
    "N2ZkiiMNeE6M"
   ],
   "name": "PolicyGradient_torch.ipynb",
   "provenance": []
  },
  "kernelspec": {
   "display_name": "Python 3.6.10 64-bit ('rlenv': conda)",
   "language": "python",
   "name": "python361064bitrlenvcondad65df3249e4e44c0b0e4c9cdcaffb4d6"
  },
  "language_info": {
   "codemirror_mode": {
    "name": "ipython",
    "version": 3
   },
   "file_extension": ".py",
   "mimetype": "text/x-python",
   "name": "python",
   "nbconvert_exporter": "python",
   "pygments_lexer": "ipython3",
   "version": "3.6.10-final"
  }
 },
 "nbformat": 4,
 "nbformat_minor": 1
}