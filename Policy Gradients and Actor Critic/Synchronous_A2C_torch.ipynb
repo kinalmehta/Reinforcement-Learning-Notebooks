{
 "cells": [
  {
   "cell_type": "markdown",
   "metadata": {
    "colab_type": "text",
    "id": "nwjab7Q4l0r1"
   },
   "source": [
    "[![Open In Colab](https://colab.research.google.com/assets/colab-badge.svg)](https://colab.research.google.com/github/kinalmehta/Reinforcement-Learning-Notebooks/blob/master/Policy%20Gradients/Synchronous_A2C_torch.ipynb)"
   ],
   "execution_count": null,
   "outputs": []
  },
  {
   "cell_type": "markdown",
   "metadata": {
    "colab_type": "text",
    "id": "lheJ2JosRp2z"
   },
   "source": [
    "### Basic Setup step in **Colab**"
   ],
   "execution_count": null,
   "outputs": []
  },
  {
   "cell_type": "code",
   "execution_count": null,
   "metadata": {
    "colab": {},
    "colab_type": "code",
    "id": "YEKcwzMBQbzD"
   },
   "outputs": [],
   "source": [
    "#remove \" > /dev/null 2>&1\" to see what is going on under the hood\n",
    "!pip install gym pyvirtualdisplay > /dev/null 2>&1\n",
    "!apt-get install -y xvfb python-opengl ffmpeg > /dev/null 2>&1\n",
    "\n",
    "!apt-get update > /dev/null 2>&1\n",
    "!apt-get install cmake > /dev/null 2>&1\n",
    "!apt-get install libopenmpi-dev > /dev/null 2>&1\n",
    "!apt-get install zlib1g-dev > /dev/null 2>&1\n",
    "\n",
    "!pip install --upgrade setuptools 2>&1\n",
    "!pip install ez_setup > /dev/null 2>&1\n",
    "!pip install gym[atari,box2d,classic_control] > /dev/null 2>&1 # change to gym[atari,box2d,classic_control]\n",
    "!pip install stable-baselines[mpi] > /dev/null 2>&1"
   ]
  },
  {
   "cell_type": "code",
   "execution_count": null,
   "metadata": {
    "colab": {},
    "colab_type": "code",
    "id": "RFFRRTAYSWea"
   },
   "outputs": [],
   "source": [
    "# %tensorflow_version 2.x\n",
    "%tensorflow_version 1.x\n"
   ]
  },
  {
   "cell_type": "markdown",
   "metadata": {},
   "source": [
    "#### Adding a virtual display for rendering"
   ],
   "execution_count": null,
   "outputs": []
  },
  {
   "cell_type": "code",
   "execution_count": null,
   "metadata": {},
   "outputs": [],
   "source": [
    "from pyvirtualdisplay import Display\n",
    "display = Display(visible=0, size=(1400, 900))\n",
    "display.start()"
   ]
  },
  {
   "cell_type": "markdown",
   "metadata": {
    "colab_type": "text",
    "id": "2_d4hG0Xp8fG"
   },
   "source": [
    "#### Uncomment below to connect to drive to save model and video outputs"
   ],
   "execution_count": null,
   "outputs": []
  },
  {
   "cell_type": "code",
   "execution_count": null,
   "metadata": {
    "colab": {},
    "colab_type": "code",
    "id": "OgZYXNoWpSVI"
   },
   "outputs": [],
   "source": [
    "\n",
    "# from google.colab import drive\n",
    "# drive.mount('/content/gdrive')\n",
    "\n",
    "# root_path = 'gdrive/My Drive/Colab Notebooks/RL/'\n",
    "# import os\n",
    "# os.chdir(root_path)"
   ]
  },
  {
   "cell_type": "markdown",
   "metadata": {
    "colab_type": "text",
    "id": "XntD8FMRRumy"
   },
   "source": [
    "### Standard imports and notebook setup"
   ],
   "execution_count": null,
   "outputs": []
  },
  {
   "cell_type": "code",
   "execution_count": null,
   "metadata": {},
   "outputs": [],
   "source": [
    "import gym\n",
    "from gym import logger as gymlogger\n",
    "from gym.wrappers import Monitor\n",
    "gymlogger.set_level(40) #error only\n",
    "import tensorflow as tf\n",
    "import numpy as np\n",
    "import random\n",
    "import matplotlib\n",
    "import matplotlib.pyplot as plt\n",
    "%matplotlib inline\n",
    "import math\n",
    "import glob\n",
    "import io\n",
    "import base64\n",
    "from IPython.display import HTML\n",
    "\n",
    "from IPython import display as ipythondisplay"
   ]
  },
  {
   "cell_type": "code",
   "execution_count": null,
   "metadata": {},
   "outputs": [],
   "source": [
    "\n",
    "from stable_baselines.common.vec_env import DummyVecEnv, SubprocVecEnv, VecVideoRecorder\n",
    ""
   ]
  },
  {
   "cell_type": "code",
   "execution_count": null,
   "metadata": {},
   "outputs": [],
   "source": [
    "\"\"\"\n",
    "Utility functions to enable video recording of gym environment and displaying it\n",
    "To enable video, just do \"env = wrap_env(env)\"\"\n",
    "\"\"\"\n",
    "\n",
    "def show_video():\n",
    "    mp4list = glob.glob('video/*.mp4')\n",
    "    if len(mp4list) > 0:\n",
    "        mp4 = mp4list[-1]\n",
    "        video = io.open(mp4, 'r+b').read()\n",
    "        encoded = base64.b64encode(video)\n",
    "\n",
    "        # you can add \"loop\" after autoplay to keep the video looping after it ends\n",
    "        ipythondisplay.display(HTML(data='''<video alt=\"test\" autoplay \n",
    "                     controls style=\"height: 400px;\">\n",
    "                    <source src=\"data:video/mp4;base64,{0}\" type=\"video/mp4\" />\n",
    "                 </video>'''.format(encoded.decode('ascii'))))\n",
    "    else:\n",
    "        print(\"Could not find video\")\n",
    "\n",
    "\n",
    "def wrap_env(env):\n",
    "    env = VecVideoRecorder(env, './video')\n",
    "    return env"
   ]
  },
  {
   "cell_type": "markdown",
   "metadata": {
    "colab_type": "text",
    "id": "JX2E1ceMcN-j"
   },
   "source": [
    "## ADD Your Algorithm Below"
   ],
   "execution_count": null,
   "outputs": []
  },
  {
   "cell_type": "code",
   "execution_count": null,
   "metadata": {},
   "outputs": [],
   "source": [
    "\n",
    "def make_env(env_id, rank, seed=0):\n",
    "    \"\"\"\n",
    "    Utility function for multiprocessed env.\n",
    "    \n",
    "    :param env_id: (str) the environment ID\n",
    "    :param num_env: (int) the number of environment you wish to have in subprocesses\n",
    "    :param seed: (int) the inital seed for RNG\n",
    "    :param rank: (int) index of the subprocess\n",
    "    \"\"\"\n",
    "    def _init():\n",
    "        env = gym.make(env_id)\n",
    "        env.seed(seed + rank)\n",
    "        return env\n",
    "    return _init\n",
    ""
   ]
  },
  {
   "cell_type": "code",
   "execution_count": null,
   "metadata": {},
   "outputs": [],
   "source": [
    "num_cpu = 6  # Number of processes to use\n",
    "\n",
    "env_list = [\"CartPole-v0\", \"LunarLander-v2\", \"MsPacman-ram-v0\", \"CartPole-v0\", \"MountainCar-v0\", \"Breakout-ram-v4\", \"Acrobot-v1\"]\n",
    "\n",
    "env_to_use = env_list[1]\n",
    ""
   ]
  },
  {
   "cell_type": "code",
   "execution_count": null,
   "metadata": {
    "tags": [
     "outputPrepend"
    ]
   },
   "outputs": [],
   "source": [
    "\n",
    "# Create the vectorized environment\n",
    "env = SubprocVecEnv([make_env(env_to_use, i) for i in range(num_cpu)])\n",
    "\n",
    "s0 = env.reset()\n",
    "print(s0.shape)\n",
    "actions = [env.action_space.sample() for i in range(num_cpu)]\n",
    "print(actions)\n",
    "env.step(actions)\n",
    "\n",
    "for i in range(100):\n",
    "    actions = [env.action_space.sample() for i in range(num_cpu)]\n",
    "    obs, ret, done, info = env.step(actions)\n",
    "    print(obs, done, info)\n",
    ""
   ]
  },
  {
   "cell_type": "code",
   "execution_count": null,
   "metadata": {},
   "outputs": [],
   "source": [
    "import torch\n",
    "import torch.nn as nn\n",
    "import torch.nn.functional as F\n",
    "\n",
    "class ACNet(nn.Module):\n",
    "    \"\"\"Actor (Policy) Model.\"\"\"\n",
    "\n",
    "    def __init__(self, state_size, action_size, seed, fc1_units=64, fc2_units=64):\n",
    "        \"\"\"Initialize parameters and build model.\n",
    "        Params\n",
    "        ======\n",
    "            state_size (int): Dimension of each state\n",
    "            action_size (int): Dimension of each action\n",
    "            seed (int): Random seed\n",
    "            fc1_units (int): Number of nodes in first hidden layer\n",
    "            fc2_units (int): Number of nodes in second hidden layer\n",
    "        \"\"\"\n",
    "        super(ACNet, self).__init__()\n",
    "        torch.manual_seed(seed)\n",
    "        self.fc1 = nn.Linear(state_size, fc1_units)\n",
    "        self.fc2 = nn.Linear(fc1_units, fc2_units)\n",
    "        self.actor = nn.Linear(fc2_units, action_size)\n",
    "        self.critic = nn.Linear(fc2_units, 1)\n",
    "\n",
    "    def forward(self, state):\n",
    "        \"\"\"Build a network that maps state -> action values.\"\"\"\n",
    "        x = F.relu(self.fc1(state))\n",
    "        x = F.relu(self.fc2(x))\n",
    "        return self.actor(x), torch.squeeze(self.critic(x), dim=-1)\n",
    "\n",
    "\n",
    "class PGLoss(nn.Module):\n",
    "    def forward(self, policy, obs, act, rew_wt):\n",
    "        logp = policy.log_prob(act)\n",
    "        return -(logp * rew_wt).mean()\n",
    ""
   ]
  },
  {
   "cell_type": "code",
   "execution_count": null,
   "metadata": {},
   "outputs": [],
   "source": [
    "import torch\n",
    "import torch.optim as optim\n",
    "\n",
    "from torch.distributions.categorical import Categorical\n",
    "\n",
    "from collections import defaultdict\n",
    "\n",
    "class Agent:\n",
    "    def __init__(self, env, batch_size):\n",
    "        self.env = env\n",
    "        self.state_size = self.env.observation_space.shape[0]\n",
    "        self.action_size = self.env.action_space.n\n",
    "\n",
    "        self.policy_network = ACNet(self.state_size, self.action_size, 4)\n",
    "        self.actor_loss = PGLoss()\n",
    "        self.critic_loss = nn.MSELoss()\n",
    "        self.batch_size = batch_size\n",
    "\n",
    "        self.train_stats = defaultdict(list)\n",
    "        self.gamma=0.9\n",
    "\n",
    "    def get_net_op(self, obs):\n",
    "        actor, critic = self.policy_network(torch.as_tensor(obs, dtype=torch.float32))\n",
    "        return Categorical(logits=actor), critic\n",
    "    def get_policy(self, obs):\n",
    "        net_op, _ = self.policy_network(torch.as_tensor(obs, dtype=torch.float32))\n",
    "        return Categorical(logits=net_op)\n",
    "    def get_action(self, policy):\n",
    "        return policy.sample().item()\n",
    "\n",
    "    def train(self, epochs):\n",
    "        optimizer = optim.Adam(self.policy_network.parameters(), lr=1e-2)\n",
    "\n",
    "        cur_obs = self.env.reset()\n",
    "\n",
    "        cur_policy, cur_ret = self.get_net_op(cur_obs)\n",
    "\n",
    "        total_rewards = 0\n",
    "        total_episodes = 0\n",
    "        batch_rewards = np.zeros(num_cpu)\n",
    "\n",
    "        for i in range(epochs):\n",
    "\n",
    "            cur_actions = [env.action_space.sample() for i in range(num_cpu)]\n",
    "            cur_action = cur_policy.sample()\n",
    "            # print(\"[INFO 1] action/return shape\", cur_action.shape, cur_ret.shape)\n",
    "            # next_obs, cur_reward, done, _ = self.env.step(list(cur_actions))\n",
    "            # print(\"a\", cur_actions, cur_action)\n",
    "            next_obs, cur_reward, done, _ = self.env.step(list(cur_action.numpy()))\n",
    "            next_policy, next_ret = self.get_net_op(next_obs)\n",
    "            # print(\"[INFO 2] reward shape\", cur_reward.shape)\n",
    "            target_ret = torch.tensor(cur_reward, dtype=torch.float32) + self.gamma*next_ret.detach()*(1-torch.tensor(done, dtype=torch.float32))\n",
    "\n",
    "            optimizer.zero_grad()\n",
    "            \n",
    "            actor_loss_val = self.actor_loss(cur_policy, cur_obs, cur_action, target_ret-cur_ret.detach())\n",
    "            critic_loss_val = self.critic_loss(cur_ret, target_ret)\n",
    "            entropy_loss_val = cur_policy.entropy().mean()\n",
    "            loss = actor_loss_val + critic_loss_val*0.05 + entropy_loss_val*0.01\n",
    "\n",
    "            loss.backward()\n",
    "            optimizer.step()\n",
    "\n",
    "            cur_policy = next_policy\n",
    "            cur_ret = next_ret\n",
    "\n",
    "            if np.any(done):\n",
    "                indxes = np.squeeze(np.argwhere(done), axis=-1)\n",
    "                # print(indxes)\n",
    "                total_episodes += len(indxes)\n",
    "                total_rewards += np.sum(batch_rewards[indxes])\n",
    "                batch_rewards[indxes] = 0\n",
    "                # for i in indxes:\n",
    "                #     total_episodes += 1\n",
    "                #     total_rewards += batch_rewards[i]\n",
    "                #     batch_rewards[i] = 0\n",
    "\n",
    "            else:\n",
    "                batch_rewards += cur_reward\n",
    "\n",
    "            if (i+1)%5000==0:\n",
    "                self.train_stats[\"actor_loss\"] += [actor_loss_val.item()]\n",
    "                self.train_stats[\"critic_loss\"] += [critic_loss_val.item()]\n",
    "                self.train_stats[\"total_loss\"] += [loss.item()]\n",
    "                self.train_stats[\"returns\"] += [total_rewards/(total_episodes+1e-8)]\n",
    "                print(\"Epoch:\", i, actor_loss_val.item(), critic_loss_val.item(), entropy_loss_val.item(), loss.item(), self.train_stats[\"returns\"][-1])\n",
    "    \n",
    "    def plot_train_stats(self):\n",
    "        if len(self.train_stats)==0:\n",
    "            print(\"first train to print train stats\")\n",
    "        for i in self.train_stats:\n",
    "            plt.plot(self.train_stats[i])\n",
    "            plt.xlabel(\"Epoch\")\n",
    "            plt.ylabel(i)\n",
    "            plt.show()\n",
    "        return\n"
   ]
  },
  {
   "cell_type": "code",
   "execution_count": null,
   "metadata": {
    "tags": [
     "outputPrepend",
     "outputPrepend",
     "outputPrepend",
     "outputPrepend",
     "outputPrepend",
     "outputPrepend",
     "outputPrepend",
     "outputPrepend",
     "outputPrepend",
     "outputPrepend",
     "outputPrepend",
     "outputPrepend",
     "outputPrepend",
     "outputPrepend",
     "outputPrepend",
     "outputPrepend",
     "outputPrepend",
     "outputPrepend",
     "outputPrepend",
     "outputPrepend",
     "outputPrepend",
     "outputPrepend",
     "outputPrepend",
     "outputPrepend",
     "outputPrepend",
     "outputPrepend",
     "outputPrepend",
     "outputPrepend",
     "outputPrepend",
     "outputPrepend",
     "outputPrepend",
     "outputPrepend",
     "outputPrepend",
     "outputPrepend",
     "outputPrepend",
     "outputPrepend",
     "outputPrepend",
     "outputPrepend",
     "outputPrepend",
     "outputPrepend",
     "outputPrepend",
     "outputPrepend",
     "outputPrepend",
     "outputPrepend",
     "outputPrepend",
     "outputPrepend",
     "outputPrepend",
     "outputPrepend",
     "outputPrepend",
     "outputPrepend",
     "outputPrepend",
     "outputPrepend",
     "outputPrepend",
     "outputPrepend",
     "outputPrepend",
     "outputPrepend",
     "outputPrepend",
     "outputPrepend",
     "outputPrepend",
     "outputPrepend",
     "outputPrepend",
     "outputPrepend",
     "outputPrepend",
     "outputPrepend",
     "outputPrepend",
     "outputPrepend",
     "outputPrepend",
     "outputPrepend",
     "outputPrepend",
     "outputPrepend",
     "outputPrepend",
     "outputPrepend",
     "outputPrepend",
     "outputPrepend",
     "outputPrepend",
     "outputPrepend",
     "outputPrepend",
     "outputPrepend",
     "outputPrepend",
     "outputPrepend",
     "outputPrepend",
     "outputPrepend",
     "outputPrepend",
     "outputPrepend",
     "outputPrepend",
     "outputPrepend",
     "outputPrepend",
     "outputPrepend",
     "outputPrepend",
     "outputPrepend",
     "outputPrepend",
     "outputPrepend"
    ]
   },
   "outputs": [],
   "source": [
    "\n",
    "print(\"GPU available:\", torch.cuda.is_available())\n",
    "\n",
    "env = SubprocVecEnv([make_env(env_to_use, i) for i in range(num_cpu)])\n",
    "\n",
    "agent = Agent(env, batch_size=5000)\n",
    "agent.train(20*5000)\n",
    "\n"
   ]
  },
  {
   "cell_type": "code",
   "execution_count": null,
   "metadata": {},
   "outputs": [],
   "source": [
    "agent.plot_train_stats()"
   ]
  },
  {
   "cell_type": "code",
   "execution_count": null,
   "metadata": {},
   "outputs": [],
   "source": [
    "# watch the trained agent\n",
    "env = wrap_env(gym.make(env_to_use))\n",
    "state = env.reset()\n",
    "done=False\n",
    "while not done:\n",
    "    policy, _ = agent.get_net_op(state)\n",
    "    action = agent.get_action(policy)\n",
    "    env.render()\n",
    "    state, reward, done, _ = env.step(action)\n",
    "    if done:\n",
    "        break\n",
    "        \n",
    "env.close()\n",
    "show_video()"
   ]
  }
 ],
 "metadata": {
  "accelerator": "GPU",
  "colab": {
   "collapsed_sections": [
    "XntD8FMRRumy",
    "JX2E1ceMcN-j",
    "-RIHPnzwR85a",
    "HidE0wI2bqT3",
    "92MuHGLIdZJE",
    "N2ZkiiMNeE6M"
   ],
   "name": "Colab Starter For RL.ipynb",
   "provenance": []
  },
  "kernelspec": {
   "display_name": "Python 3.6.10 64-bit ('rlenv': conda)",
   "language": "python",
   "name": "python361064bitrlenvcondad65df3249e4e44c0b0e4c9cdcaffb4d6"
  },
  "language_info": {
   "codemirror_mode": {
    "name": "ipython",
    "version": 3
   },
   "file_extension": ".py",
   "mimetype": "text/x-python",
   "name": "python",
   "nbconvert_exporter": "python",
   "pygments_lexer": "ipython3",
   "version": "3.6.10-final"
  }
 },
 "nbformat": 4,
 "nbformat_minor": 1
}